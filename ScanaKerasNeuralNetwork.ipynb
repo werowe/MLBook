{
 "cells": [
  {
   "cell_type": "code",
   "execution_count": 83,
   "metadata": {},
   "outputs": [],
   "source": [
    "import tensorflow as tf\n",
    "from keras.models import Sequential\n",
    "import pandas as pd\n",
    "from keras.layers import Dense\n",
    "import numpy as np\n",
    "\n",
    "def isAps(s):\n",
    "    if s == 'neg':\n",
    "        return 1\n",
    "    else:\n",
    "        return 0\n",
    "def isNa(s):\n",
    "    if s == 'na':\n",
    "        return 'Nan'\n",
    "    else:\n",
    "        return s    \n",
    "    \n",
    "train = pd.read_csv('/Users/walkerrowe/Documents/mlbook/scana/ida_2016_challenge_update/ida_2016_training_set_update.csv', delimiter=',')"
   ]
  },
  {
   "cell_type": "code",
   "execution_count": 84,
   "metadata": {},
   "outputs": [],
   "source": [
    "\n",
    "\n",
    "train.replace('na',np.NaN,inplace=True)\n",
    "train.dropna(inplace=True)\n",
    "y=train['class'].apply(lambda x: isAps(x)) \n",
    "\n",
    "\n",
    "dropColumns=['class', 'ag_001',\n",
    "'ag_002',\n",
    "'ag_003',\n",
    "'ag_004',\n",
    "'ag_005',\n",
    "'ag_006',\n",
    "'ag_007',\n",
    "'ag_008',\n",
    "'ag_009',\n",
    "'ay_001',\n",
    "'ay_002',\n",
    "'ay_003',\n",
    "'ay_004',\n",
    "'ay_005',\n",
    "'ay_006',\n",
    "'ay_007',\n",
    "'ay_008',\n",
    "'ay_009',\n",
    "'az_001',\n",
    "'az_002',\n",
    "'az_003',\n",
    "'az_004',\n",
    "'az_005',\n",
    "'az_006',\n",
    "'az_007',\n",
    "'az_008',\n",
    "'az_009',\n",
    "'ba_001',\n",
    "'ba_002',\n",
    "'ba_003',\n",
    "'ba_004',\n",
    "'ba_005',\n",
    "'ba_006',\n",
    "'ba_007',\n",
    "'ba_008',\n",
    "'ba_009',\n",
    "'cn_001',\n",
    "'cn_002',\n",
    "'cn_003',\n",
    "'cn_004',\n",
    "'cn_005',\n",
    "'cn_006',\n",
    "'cn_007',\n",
    "'cn_008',\n",
    "'cn_009',\n",
    "'cs_001',\n",
    "'cs_002',\n",
    "'cs_003',\n",
    "'cs_004',\n",
    "'cs_005',\n",
    "'cs_006',\n",
    "'cs_007',\n",
    "'cs_008',\n",
    "'cs_009']\n",
    "\n",
    "\n",
    "train.drop(dropColumns,axis=1,inplace=True)\n",
    "\n",
    "test =  pd.read_csv('/Users/walkerrowe/Documents/mlbook/scana/ida_2016_challenge_update/ida_2016_test_set_update.csv', delimiter=',')\n",
    " "
   ]
  },
  {
   "cell_type": "code",
   "execution_count": null,
   "metadata": {},
   "outputs": [],
   "source": [
    "train"
   ]
  },
  {
   "cell_type": "code",
   "execution_count": null,
   "metadata": {},
   "outputs": [],
   "source": [
    "y"
   ]
  },
  {
   "cell_type": "code",
   "execution_count": null,
   "metadata": {},
   "outputs": [],
   "source": [
    " "
   ]
  },
  {
   "cell_type": "code",
   "execution_count": 87,
   "metadata": {},
   "outputs": [],
   "source": [
    "model = Sequential()\n",
    "\n",
    "model.add(Dense(116, activation='relu', input_shape=(116,)))\n",
    "\n",
    "model.add(Dense(8, activation='relu'))\n",
    "\n",
    "model.add(Dense(1, activation='sigmoid'))\n"
   ]
  },
  {
   "cell_type": "code",
   "execution_count": 88,
   "metadata": {},
   "outputs": [
    {
     "name": "stdout",
     "output_type": "stream",
     "text": [
      "Epoch 1/8\n",
      "591/591 [==============================] - 2s 3ms/step - loss: 9.5158 - acc: 0.4095\n",
      "Epoch 2/8\n",
      "591/591 [==============================] - 1s 2ms/step - loss: 9.5158 - acc: 0.4095\n",
      "Epoch 3/8\n",
      "591/591 [==============================] - 1s 2ms/step - loss: 9.5158 - acc: 0.4095\n",
      "Epoch 4/8\n",
      "591/591 [==============================] - 1s 2ms/step - loss: 9.5158 - acc: 0.4095A: 0s - loss: 9.5165 - acc: 0 - ETA: 0s - loss: 9.6788 - a\n",
      "Epoch 5/8\n",
      "591/591 [==============================] - 1s 2ms/step - loss: 9.5158 - acc: 0.4095\n",
      "Epoch 6/8\n",
      "591/591 [==============================] - 1s 2ms/step - loss: 9.5158 - acc: 0.4095\n",
      "Epoch 7/8\n",
      "591/591 [==============================] - 1s 2ms/step - loss: 9.5158 - acc: 0.4095\n",
      "Epoch 8/8\n",
      "591/591 [==============================] - 1s 2ms/step - loss: 9.5158 - acc: 0.4095\n"
     ]
    },
    {
     "data": {
      "text/plain": [
       "<keras.callbacks.History at 0x1247672e8>"
      ]
     },
     "execution_count": 88,
     "metadata": {},
     "output_type": "execute_result"
    }
   ],
   "source": [
    "model.compile(loss='binary_crossentropy',\n",
    "              optimizer='sgd',\n",
    "              metrics=['accuracy'])\n",
    "                   \n",
    "model.fit(train, y,epochs=8, batch_size=1, verbose=1)"
   ]
  },
  {
   "cell_type": "code",
   "execution_count": null,
   "metadata": {},
   "outputs": [],
   "source": [
    "for layer in model.layers:\n",
    "    weights = layer.get_weights()\n",
    "    print(weights)\n"
   ]
  },
  {
   "cell_type": "code",
   "execution_count": null,
   "metadata": {},
   "outputs": [],
   "source": [
    "#y_pred = model.predict_classes(X_test)\n"
   ]
  },
  {
   "cell_type": "code",
   "execution_count": null,
   "metadata": {},
   "outputs": [],
   "source": [
    " \n",
    "#score = model.evaluate(X_test, y_test,verbose=1)\n",
    "\n",
    "#print(score)"
   ]
  },
  {
   "cell_type": "code",
   "execution_count": null,
   "metadata": {},
   "outputs": [],
   "source": [
    "#y_pred"
   ]
  },
  {
   "cell_type": "code",
   "execution_count": 90,
   "metadata": {},
   "outputs": [
    {
     "data": {
      "text/plain": [
       "16       1\n",
       "179      1\n",
       "225      1\n",
       "394      0\n",
       "413      0\n",
       "625      1\n",
       "649      0\n",
       "710      1\n",
       "749      0\n",
       "750      1\n",
       "830      0\n",
       "888      1\n",
       "1019     1\n",
       "1029     1\n",
       "1133     1\n",
       "1398     0\n",
       "1452     1\n",
       "1491     1\n",
       "1581     1\n",
       "1889     1\n",
       "1977     1\n",
       "2095     1\n",
       "2264     1\n",
       "2360     1\n",
       "2369     1\n",
       "2520     0\n",
       "2710     1\n",
       "2721     1\n",
       "2886     1\n",
       "3036     1\n",
       "        ..\n",
       "57627    1\n",
       "57640    1\n",
       "57758    1\n",
       "57863    1\n",
       "57877    1\n",
       "57927    1\n",
       "57993    0\n",
       "58000    1\n",
       "58120    1\n",
       "58217    1\n",
       "58233    1\n",
       "58258    1\n",
       "58321    1\n",
       "58394    1\n",
       "58447    1\n",
       "58475    1\n",
       "58624    1\n",
       "58702    1\n",
       "58717    1\n",
       "58733    1\n",
       "58736    1\n",
       "58765    1\n",
       "59095    1\n",
       "59214    1\n",
       "59217    1\n",
       "59432    1\n",
       "59562    1\n",
       "59843    1\n",
       "59870    1\n",
       "59950    1\n",
       "Name: class, Length: 591, dtype: int64"
      ]
     },
     "execution_count": 90,
     "metadata": {},
     "output_type": "execute_result"
    }
   ],
   "source": [
    "y"
   ]
  },
  {
   "cell_type": "code",
   "execution_count": null,
   "metadata": {},
   "outputs": [],
   "source": []
  }
 ],
 "metadata": {
  "kernelspec": {
   "display_name": "Python 3",
   "language": "python",
   "name": "python3"
  }
 },
 "nbformat": 4,
 "nbformat_minor": 4
}
