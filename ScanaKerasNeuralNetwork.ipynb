{
 "cells": [
  {
   "cell_type": "code",
   "execution_count": 14,
   "metadata": {},
   "outputs": [],
   "source": [
    "import tensorflow as tf\n",
    "from keras.models import Sequential\n",
    "import matplotlib.pyplot as plt\n",
    "import pandas as pd\n",
    "from keras.layers import Dense\n",
    "import numpy as np\n",
    "\n",
    "def isAps(s):\n",
    "    if s == 'neg':\n",
    "        return 1\n",
    "    else:\n",
    "        return 0\n",
    "def isNa(s):\n",
    "    if s == 'na':\n",
    "        return 'Nan'\n",
    "    else:\n",
    "        return s    \n",
    "    \n",
    "train = pd.read_csv('/Users/walkerrowe/Documents/mlbook/scana/ida_2016_challenge_update/ida_2016_training_set_update.csv', delimiter=',')"
   ]
  },
  {
   "cell_type": "code",
   "execution_count": 15,
   "metadata": {},
   "outputs": [],
   "source": [
    "\n",
    "\n",
    "train.replace('na',np.NaN,inplace=True)\n",
    "train.dropna(inplace=True)\n",
    "y=train['class'].apply(lambda x: isAps(x)) \n",
    "\n",
    "\n",
    "dropColumns=['class', 'ag_001',\n",
    "'ag_002',\n",
    "'ag_003',\n",
    "'ag_004',\n",
    "'ag_005',\n",
    "'ag_006',\n",
    "'ag_007',\n",
    "'ag_008',\n",
    "'ag_009',\n",
    "'ay_001',\n",
    "'ay_002',\n",
    "'ay_003',\n",
    "'ay_004',\n",
    "'ay_005',\n",
    "'ay_006',\n",
    "'ay_007',\n",
    "'ay_008',\n",
    "'ay_009',\n",
    "'az_001',\n",
    "'az_002',\n",
    "'az_003',\n",
    "'az_004',\n",
    "'az_005',\n",
    "'az_006',\n",
    "'az_007',\n",
    "'az_008',\n",
    "'az_009',\n",
    "'ba_001',\n",
    "'ba_002',\n",
    "'ba_003',\n",
    "'ba_004',\n",
    "'ba_005',\n",
    "'ba_006',\n",
    "'ba_007',\n",
    "'ba_008',\n",
    "'ba_009',\n",
    "'cn_001',\n",
    "'cn_002',\n",
    "'cn_003',\n",
    "'cn_004',\n",
    "'cn_005',\n",
    "'cn_006',\n",
    "'cn_007',\n",
    "'cn_008',\n",
    "'cn_009',\n",
    "'cs_001',\n",
    "'cs_002',\n",
    "'cs_003',\n",
    "'cs_004',\n",
    "'cs_005',\n",
    "'cs_006',\n",
    "'cs_007',\n",
    "'cs_008',\n",
    "'cs_009']\n",
    "\n",
    "\n",
    "train.drop(dropColumns,axis=1,inplace=True)\n",
    "\n",
    "test =  pd.read_csv('/Users/walkerrowe/Documents/mlbook/scana/ida_2016_challenge_update/ida_2016_test_set_update.csv', delimiter=',')\n",
    " "
   ]
  },
  {
   "cell_type": "code",
   "execution_count": 16,
   "metadata": {},
   "outputs": [],
   "source": [
    "model = Sequential()\n",
    "\n",
    "model.add(Dense(116, activation='relu', input_shape=(116,)))\n",
    "\n",
    "model.add(Dense(8, activation='relu'))\n",
    "\n",
    "model.add(Dense(1, activation='sigmoid'))\n"
   ]
  },
  {
   "cell_type": "code",
   "execution_count": 17,
   "metadata": {},
   "outputs": [
    {
     "name": "stdout",
     "output_type": "stream",
     "text": [
      "Epoch 1/8\n",
      "591/591 [==============================] - 1s 2ms/step - loss: 12.7382 - acc: 0.2064\n",
      "Epoch 2/8\n",
      "591/591 [==============================] - 1s 2ms/step - loss: 12.7381 - acc: 0.2064\n",
      "Epoch 3/8\n",
      "591/591 [==============================] - 1s 2ms/step - loss: 12.7380 - acc: 0.2064\n",
      "Epoch 4/8\n",
      "591/591 [==============================] - 1s 1ms/step - loss: 12.7379 - acc: 0.2064\n",
      "Epoch 5/8\n",
      "591/591 [==============================] - 1s 1ms/step - loss: 12.7378 - acc: 0.2064\n",
      "Epoch 6/8\n",
      "591/591 [==============================] - 1s 2ms/step - loss: 12.7377 - acc: 0.2064\n",
      "Epoch 7/8\n",
      "591/591 [==============================] - 1s 2ms/step - loss: 12.7377 - acc: 0.2064\n",
      "Epoch 8/8\n",
      "591/591 [==============================] - 1s 2ms/step - loss: 12.7376 - acc: 0.2064\n"
     ]
    },
    {
     "data": {
      "text/plain": [
       "<keras.callbacks.History at 0x1269f02b0>"
      ]
     },
     "execution_count": 17,
     "metadata": {},
     "output_type": "execute_result"
    }
   ],
   "source": [
    "model.compile(loss='binary_crossentropy',\n",
    "              optimizer='sgd',\n",
    "              metrics=['accuracy'])\n",
    "                   \n",
    "model.fit(train, y,epochs=8, batch_size=1, verbose=1)"
   ]
  },
  {
   "cell_type": "code",
   "execution_count": 18,
   "metadata": {},
   "outputs": [
    {
     "name": "stderr",
     "output_type": "stream",
     "text": [
      "/Users/walkerrowe/py34/lib/python3.4/site-packages/keras/engine/sequential.py:276: RuntimeWarning: invalid value encountered in greater\n",
      "  return (proba > 0.5).astype('int32')\n"
     ]
    }
   ],
   "source": [
    "test = pd.read_csv('/Users/walkerrowe/Documents/mlbook/scana/ida_2016_challenge_update/ida_2016_test_set_update.csv', delimiter=',')\n",
    "\n",
    "z=pd.Series(test['class'].apply(lambda x: isAps(x)))\n",
    " \n",
    "test.drop(dropColumns,axis=1,inplace=True)\n",
    "test.drop(['id'],axis=1,inplace=True)\n",
    "\n",
    "test.replace('na',np.NaN,inplace=True)\n",
    "\n",
    "test['prediction']=model.predict_classes(test)\n"
   ]
  },
  {
   "cell_type": "code",
   "execution_count": 19,
   "metadata": {},
   "outputs": [
    {
     "data": {
      "text/plain": [
       "class\n",
       "0    16000\n",
       "Name: class, dtype: int64"
      ]
     },
     "execution_count": 19,
     "metadata": {},
     "output_type": "execute_result"
    }
   ],
   "source": [
    "test['class']=z\n",
    "test['class'].groupby(test['class']).count()"
   ]
  },
  {
   "cell_type": "code",
   "execution_count": 20,
   "metadata": {},
   "outputs": [
    {
     "data": {
      "text/plain": [
       "prediction\n",
       "0    15968\n",
       "1       32\n",
       "Name: prediction, dtype: int64"
      ]
     },
     "execution_count": 20,
     "metadata": {},
     "output_type": "execute_result"
    }
   ],
   "source": [
    "test['prediction'].groupby(test['prediction']).count()"
   ]
  },
  {
   "cell_type": "code",
   "execution_count": null,
   "metadata": {},
   "outputs": [],
   "source": [
    " "
   ]
  },
  {
   "cell_type": "code",
   "execution_count": null,
   "metadata": {},
   "outputs": [],
   "source": [
    " "
   ]
  },
  {
   "cell_type": "code",
   "execution_count": null,
   "metadata": {},
   "outputs": [],
   "source": [
    " "
   ]
  },
  {
   "cell_type": "code",
   "execution_count": null,
   "metadata": {},
   "outputs": [],
   "source": []
  },
  {
   "cell_type": "code",
   "execution_count": null,
   "metadata": {},
   "outputs": [],
   "source": []
  },
  {
   "cell_type": "code",
   "execution_count": null,
   "metadata": {},
   "outputs": [],
   "source": []
  },
  {
   "cell_type": "code",
   "execution_count": null,
   "metadata": {},
   "outputs": [],
   "source": []
  }
 ],
 "metadata": {
  "kernelspec": {
   "display_name": "Python 3",
   "language": "python",
   "name": "python3"
  },
  "language_info": {
   "codemirror_mode": {
    "name": "ipython",
    "version": 3
   },
   "file_extension": ".py",
   "mimetype": "text/x-python",
   "name": "python",
   "nbconvert_exporter": "python",
   "pygments_lexer": "ipython3",
   "version": "3.4.4"
  }
 },
 "nbformat": 4,
 "nbformat_minor": 4
}
