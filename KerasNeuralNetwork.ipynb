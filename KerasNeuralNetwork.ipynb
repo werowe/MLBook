{
 "cells": [
  {
   "cell_type": "code",
   "execution_count": 159,
   "metadata": {},
   "outputs": [],
   "source": [
    "import tensorflow as tf\n",
    "from keras.models import Sequential\n",
    "import pandas as pd\n",
    "from keras.layers import Dense\n",
    "import numpy as np\n",
    "\n",
    "\n",
    "import locale\n",
    "locale.setlocale( locale.LC_ALL, 'en_US.UTF-8' ) \n",
    " \n",
    "\n",
    "data = pd.read_csv('/Users/walkerrowe/Documents/mlbook/brakedata.csv', delimiter=',')\n",
    "\n"
   ]
  },
  {
   "cell_type": "code",
   "execution_count": 174,
   "metadata": {},
   "outputs": [
    {
     "data": {
      "text/html": [
       "<div>\n",
       "<style scoped>\n",
       "    .dataframe tbody tr th:only-of-type {\n",
       "        vertical-align: middle;\n",
       "    }\n",
       "\n",
       "    .dataframe tbody tr th {\n",
       "        vertical-align: top;\n",
       "    }\n",
       "\n",
       "    .dataframe thead th {\n",
       "        text-align: right;\n",
       "    }\n",
       "</style>\n",
       "<table border=\"1\" class=\"dataframe\">\n",
       "  <thead>\n",
       "    <tr style=\"text-align: right;\">\n",
       "      <th></th>\n",
       "      <th>km</th>\n",
       "      <th>heat</th>\n",
       "      <th>z</th>\n",
       "      <th>pr</th>\n",
       "    </tr>\n",
       "  </thead>\n",
       "  <tbody>\n",
       "    <tr>\n",
       "      <th>0</th>\n",
       "      <td>20000</td>\n",
       "      <td>240</td>\n",
       "      <td>2.720</td>\n",
       "      <td>0.938197</td>\n",
       "    </tr>\n",
       "    <tr>\n",
       "      <th>1</th>\n",
       "      <td>5000</td>\n",
       "      <td>98</td>\n",
       "      <td>-57.706</td>\n",
       "      <td>0.000000</td>\n",
       "    </tr>\n",
       "    <tr>\n",
       "      <th>2</th>\n",
       "      <td>50000</td>\n",
       "      <td>140</td>\n",
       "      <td>122.420</td>\n",
       "      <td>1.000000</td>\n",
       "    </tr>\n",
       "    <tr>\n",
       "      <th>3</th>\n",
       "      <td>8000</td>\n",
       "      <td>260</td>\n",
       "      <td>-45.220</td>\n",
       "      <td>0.000000</td>\n",
       "    </tr>\n",
       "    <tr>\n",
       "      <th>4</th>\n",
       "      <td>23790</td>\n",
       "      <td>225</td>\n",
       "      <td>17.835</td>\n",
       "      <td>1.000000</td>\n",
       "    </tr>\n",
       "    <tr>\n",
       "      <th>5</th>\n",
       "      <td>24644</td>\n",
       "      <td>245</td>\n",
       "      <td>21.311</td>\n",
       "      <td>1.000000</td>\n",
       "    </tr>\n",
       "    <tr>\n",
       "      <th>6</th>\n",
       "      <td>29934</td>\n",
       "      <td>195</td>\n",
       "      <td>42.321</td>\n",
       "      <td>1.000000</td>\n",
       "    </tr>\n",
       "    <tr>\n",
       "      <th>7</th>\n",
       "      <td>14045</td>\n",
       "      <td>153</td>\n",
       "      <td>-21.361</td>\n",
       "      <td>0.000000</td>\n",
       "    </tr>\n",
       "    <tr>\n",
       "      <th>8</th>\n",
       "      <td>8000</td>\n",
       "      <td>222</td>\n",
       "      <td>-45.334</td>\n",
       "      <td>0.000000</td>\n",
       "    </tr>\n",
       "    <tr>\n",
       "      <th>9</th>\n",
       "      <td>9855</td>\n",
       "      <td>149</td>\n",
       "      <td>-38.133</td>\n",
       "      <td>0.000000</td>\n",
       "    </tr>\n",
       "    <tr>\n",
       "      <th>10</th>\n",
       "      <td>24633</td>\n",
       "      <td>271</td>\n",
       "      <td>21.345</td>\n",
       "      <td>1.000000</td>\n",
       "    </tr>\n",
       "    <tr>\n",
       "      <th>11</th>\n",
       "      <td>20753</td>\n",
       "      <td>209</td>\n",
       "      <td>5.639</td>\n",
       "      <td>0.996456</td>\n",
       "    </tr>\n",
       "  </tbody>\n",
       "</table>\n",
       "</div>"
      ],
      "text/plain": [
       "       km  heat        z        pr\n",
       "0   20000   240    2.720  0.938197\n",
       "1    5000    98  -57.706  0.000000\n",
       "2   50000   140  122.420  1.000000\n",
       "3    8000   260  -45.220  0.000000\n",
       "4   23790   225   17.835  1.000000\n",
       "5   24644   245   21.311  1.000000\n",
       "6   29934   195   42.321  1.000000\n",
       "7   14045   153  -21.361  0.000000\n",
       "8    8000   222  -45.334  0.000000\n",
       "9    9855   149  -38.133  0.000000\n",
       "10  24633   271   21.345  1.000000\n",
       "11  20753   209    5.639  0.996456"
      ]
     },
     "execution_count": 174,
     "metadata": {},
     "output_type": "execute_result"
    }
   ],
   "source": [
    " data"
   ]
  },
  {
   "cell_type": "code",
   "execution_count": 161,
   "metadata": {},
   "outputs": [
    {
     "name": "stdout",
     "output_type": "stream",
     "text": [
      "<class 'pandas.core.frame.DataFrame'>\n",
      "RangeIndex: 12 entries, 0 to 11\n",
      "Data columns (total 4 columns):\n",
      "km      12 non-null object\n",
      "heat    12 non-null int64\n",
      "z       12 non-null float64\n",
      "pr      12 non-null float64\n",
      "dtypes: float64(2), int64(1), object(1)\n",
      "memory usage: 464.0+ bytes\n"
     ]
    }
   ],
   "source": [
    "\n",
    "\n",
    "labels=data['worn']\n",
    "data.drop(columns=['worn'],axis=1,inplace=True)\n",
    "\n",
    "data.info()\n",
    "\n",
    "\n"
   ]
  },
  {
   "cell_type": "code",
   "execution_count": 162,
   "metadata": {},
   "outputs": [
    {
     "data": {
      "text/plain": [
       "<matplotlib.axes._subplots.AxesSubplot at 0x1a609f470>"
      ]
     },
     "execution_count": 162,
     "metadata": {},
     "output_type": "execute_result"
    },
    {
     "data": {
      "image/png": "[encoded data removed]",
      "text/plain": [
       "<Figure size 432x288 with 2 Axes>"
      ]
     },
     "metadata": {
      "needs_background": "light"
     },
     "output_type": "display_data"
    }
   ],
   "source": [
    "import seaborn as sns\n",
    "import matplotlib as plt\n",
    "corr = data.corr()\n",
    "sns.heatmap(corr, \n",
    "            xticklabels=corr.columns.values,\n",
    "            yticklabels=corr.columns.values)\n"
   ]
  },
  {
   "cell_type": "code",
   "execution_count": 163,
   "metadata": {},
   "outputs": [],
   "source": [
    "# data['BloodPressure'].corr( data[\"BMI\"])\n"
   ]
  },
  {
   "cell_type": "code",
   "execution_count": 164,
   "metadata": {},
   "outputs": [
    {
     "data": {
      "text/plain": [
       "Index(['km', 'heat', 'z', 'pr'], dtype='object')"
      ]
     },
     "execution_count": 164,
     "metadata": {},
     "output_type": "execute_result"
    }
   ],
   "source": [
    " data.columns"
   ]
  },
  {
   "cell_type": "code",
   "execution_count": 165,
   "metadata": {},
   "outputs": [
    {
     "name": "stdout",
     "output_type": "stream",
     "text": [
      "<class 'pandas.core.frame.DataFrame'>\n",
      "RangeIndex: 12 entries, 0 to 11\n",
      "Data columns (total 4 columns):\n",
      "km      12 non-null object\n",
      "heat    12 non-null int64\n",
      "z       12 non-null float64\n",
      "pr      12 non-null float64\n",
      "dtypes: float64(2), int64(1), object(1)\n",
      "memory usage: 464.0+ bytes\n"
     ]
    }
   ],
   "source": [
    "data.info()"
   ]
  },
  {
   "cell_type": "code",
   "execution_count": 166,
   "metadata": {},
   "outputs": [
    {
     "data": {
      "text/plain": [
       "(12, 4)"
      ]
     },
     "execution_count": 166,
     "metadata": {},
     "output_type": "execute_result"
    }
   ],
   "source": [
    "data.shape"
   ]
  },
  {
   "cell_type": "code",
   "execution_count": 167,
   "metadata": {},
   "outputs": [],
   "source": [
    "\n",
    "data['km'] = data['km'].apply(lambda l : locale.atoi(l))"
   ]
  },
  {
   "cell_type": "code",
   "execution_count": 168,
   "metadata": {},
   "outputs": [],
   "source": [
    "\n",
    "\n",
    "model = Sequential()\n",
    "\n",
    "model.add(Dense(8, activation='relu', input_shape=(4,)))\n",
    "\n",
    "model.add(Dense(8, activation='relu'))\n",
    "\n",
    "model.add(Dense(1, activation='sigmoid'))\n"
   ]
  },
  {
   "cell_type": "code",
   "execution_count": 169,
   "metadata": {},
   "outputs": [
    {
     "name": "stdout",
     "output_type": "stream",
     "text": [
      "Epoch 1/4\n",
      "12/12 [==============================] - 1s 52ms/step - loss: 9.4022 - acc: 0.4167\n",
      "Epoch 2/4\n",
      "12/12 [==============================] - 0s 3ms/step - loss: 9.4022 - acc: 0.4167 \n",
      "Epoch 3/4\n",
      "12/12 [==============================] - 0s 3ms/step - loss: 9.4022 - acc: 0.4167\n",
      "Epoch 4/4\n",
      "12/12 [==============================] - 0s 7ms/step - loss: 9.4022 - acc: 0.4167\n"
     ]
    },
    {
     "data": {
      "text/plain": [
       "<keras.callbacks.History at 0x12a875c50>"
      ]
     },
     "execution_count": 169,
     "metadata": {},
     "output_type": "execute_result"
    }
   ],
   "source": [
    "model.compile(loss='binary_crossentropy',\n",
    "              optimizer='sgd',\n",
    "              metrics=['accuracy'])\n",
    "                   \n",
    "model.fit(data, labels,epochs=4, batch_size=1, verbose=1)"
   ]
  },
  {
   "cell_type": "code",
   "execution_count": 170,
   "metadata": {},
   "outputs": [
    {
     "name": "stdout",
     "output_type": "stream",
     "text": [
      "[array([[-0.03250515,  0.6216933 , -0.39011544,  0.4909305 , -0.06642324,\n",
      "        -0.09854352, -0.17389518,  0.34651977],\n",
      "       [-0.4557298 , -0.47238255,  0.10868663, -0.59838104,  0.6709867 ,\n",
      "        -0.6790803 , -0.6336706 , -0.01926666],\n",
      "       [ 0.5207433 , -0.13078624, -0.1022194 ,  0.5934158 , -0.5581069 ,\n",
      "        -0.18050349,  0.48690444, -0.6953913 ],\n",
      "       [ 0.00533193,  0.32351798,  0.52032024, -0.6098949 ,  0.25063634,\n",
      "         0.05510837,  0.10735679, -0.03103966]], dtype=float32), array([0., 0., 0., 0., 0., 0., 0., 0.], dtype=float32)]\n",
      "[array([[ 0.10737306, -0.2828189 , -0.5073966 , -0.10257417, -0.19226605,\n",
      "        -0.36190355, -0.14422515, -0.28909433],\n",
      "       [ 0.00506538,  0.20782453,  0.03524333,  0.41725856,  0.00647223,\n",
      "         0.44874007,  0.45149106,  0.591729  ],\n",
      "       [ 0.40875965,  0.5500762 ,  0.06594092, -0.04264516,  0.5923435 ,\n",
      "         0.5866677 , -0.0514465 ,  0.26503778],\n",
      "       [-0.25132826,  0.0332675 ,  0.5957785 , -0.5343018 ,  0.51402813,\n",
      "        -0.10355598,  0.3212762 ,  0.0747087 ],\n",
      "       [-0.09474546,  0.2905932 ,  0.50013596,  0.25630677,  0.47555345,\n",
      "        -0.45646793, -0.58665514, -0.3518689 ],\n",
      "       [ 0.15245205,  0.4140939 , -0.3788385 , -0.3732128 ,  0.11104262,\n",
      "         0.2920469 ,  0.5619795 ,  0.2781942 ],\n",
      "       [-0.5254845 , -0.41064513, -0.19118083,  0.41862684, -0.5330079 ,\n",
      "         0.42961162, -0.47376835, -0.39510477],\n",
      "       [ 0.16247326, -0.21220744, -0.45370388,  0.2380454 , -0.16065931,\n",
      "        -0.25469068,  0.37391388,  0.26838118]], dtype=float32), array([0., 0., 0., 0., 0., 0., 0., 0.], dtype=float32)]\n",
      "[array([[ 0.5261898 ],\n",
      "       [ 0.4248817 ],\n",
      "       [ 0.44215357],\n",
      "       [-0.7250889 ],\n",
      "       [-0.10017169],\n",
      "       [-0.6430424 ],\n",
      "       [-0.51305187],\n",
      "       [ 0.06280571]], dtype=float32), array([0.], dtype=float32)]\n"
     ]
    }
   ],
   "source": [
    "for layer in model.layers:\n",
    "    weights = layer.get_weights()\n",
    "    print(weights)\n"
   ]
  },
  {
   "cell_type": "code",
   "execution_count": null,
   "metadata": {},
   "outputs": [],
   "source": [
    " \n"
   ]
  },
  {
   "cell_type": "code",
   "execution_count": 171,
   "metadata": {},
   "outputs": [
    {
     "name": "stdout",
     "output_type": "stream",
     "text": [
      "12/12 [==============================] - 0s 17ms/step\n",
      "[9.402222633361816, 0.4166666567325592]\n"
     ]
    }
   ],
   "source": [
    " \n",
    "score = model.evaluate(data, labels,verbose=1)\n",
    "\n",
    "print(score)"
   ]
  },
  {
   "cell_type": "code",
   "execution_count": 172,
   "metadata": {},
   "outputs": [
    {
     "data": {
      "text/plain": [
       "array([[0]], dtype=int32)"
      ]
     },
     "execution_count": 172,
     "metadata": {},
     "output_type": "execute_result"
    }
   ],
   "source": [
    "model.predict_classes(np.array([23790,225,17.835,1.000000]).reshape(1,-1))"
   ]
  },
  {
   "cell_type": "code",
   "execution_count": 173,
   "metadata": {},
   "outputs": [
    {
     "ename": "TypeError",
     "evalue": "'builtin_function_or_method' object is not subscriptable",
     "output_type": "error",
     "traceback": [
      "\u001b[0;31m---------------------------------------------------------------------------\u001b[0m",
      "\u001b[0;31mTypeError\u001b[0m                                 Traceback (most recent call last)",
      "\u001b[0;32m<ipython-input-173-df49bf115948>\u001b[0m in \u001b[0;36m<module>\u001b[0;34m()\u001b[0m\n\u001b[0;32m----> 1\u001b[0;31m \u001b[0mnp\u001b[0m\u001b[0;34m.\u001b[0m\u001b[0marray\u001b[0m\u001b[0;34m[\u001b[0m\u001b[0;36m23790\u001b[0m\u001b[0;34m,\u001b[0m\u001b[0;36m225\u001b[0m\u001b[0;34m,\u001b[0m\u001b[0;36m17.835\u001b[0m\u001b[0;34m,\u001b[0m\u001b[0;36m1.000000\u001b[0m\u001b[0;34m]\u001b[0m\u001b[0;34m.\u001b[0m\u001b[0mreshape\u001b[0m\u001b[0;34m(\u001b[0m\u001b[0;36m1\u001b[0m\u001b[0;34m,\u001b[0m\u001b[0;34m-\u001b[0m\u001b[0;36m1\u001b[0m\u001b[0;34m)\u001b[0m\u001b[0;34m\u001b[0m\u001b[0m\n\u001b[0m",
      "\u001b[0;31mTypeError\u001b[0m: 'builtin_function_or_method' object is not subscriptable"
     ]
    }
   ],
   "source": [
    "np.array[23790,225,17.835,1.000000].reshape(1,-1)"
   ]
  },
  {
   "cell_type": "code",
   "execution_count": null,
   "metadata": {},
   "outputs": [],
   "source": []
  }
 ],
 "metadata": {
  "kernelspec": {
   "display_name": "Python 3",
   "language": "python",
   "name": "python3"
  },
  "language_info": {
   "codemirror_mode": {
    "name": "ipython",
    "version": 3
   },
   "file_extension": ".py",
   "mimetype": "text/x-python",
   "name": "python",
   "nbconvert_exporter": "python",
   "pygments_lexer": "ipython3",
   "version": "3.4.4"
  }
 },
 "nbformat": 4,
 "nbformat_minor": 4
}
